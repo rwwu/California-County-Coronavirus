{
 "cells": [
  {
   "cell_type": "markdown",
   "metadata": {},
   "source": [
    "## Cases Data"
   ]
  },
  {
   "cell_type": "code",
   "execution_count": 1,
   "metadata": {},
   "outputs": [],
   "source": [
    "import numpy as np\n",
    "import pandas as pd\n",
    "import json\n",
    "import urllib.request\n",
    "\n",
    "#collect data on the cases based on California counties\n",
    "website = 'https://data.ca.gov'\n",
    "url = website + '/api/3/action/datastore_search?resource_id=6a1aaf21-2a2c-466b-8738-222aaceaa168'\n",
    "\n",
    "cases = pd.DataFrame()\n",
    "completed = False\n",
    "total_rows: int\n",
    "rows_added = 0\n",
    "\n",
    "#the api that we are requesting data from has a set number of rows per 'page'; \n",
    "#will need to parse through all the pages to collect all the data\n",
    "while completed == False:\n",
    "    fileobj = urllib.request.urlopen(url)\n",
    "    response_dict = json.loads(fileobj.read())\n",
    "    current_data = pd.json_normalize(response_dict['result']['records'])\n",
    "    cases = cases.append(current_data, ignore_index = True)\n",
    "    url = website + response_dict['result']['_links']['next']\n",
    "    total_rows = response_dict['result']['total']\n",
    "    rows_added += current_data.shape[0]\n",
    "    if rows_added >= total_rows:\n",
    "        completed = True"
   ]
  },
  {
   "cell_type": "code",
   "execution_count": 2,
   "metadata": {},
   "outputs": [
    {
     "name": "stdout",
     "output_type": "stream",
     "text": [
      "['Alameda' 'Alpine' 'Out of state' 'Amador' 'Butte' 'Calaveras' 'Colusa'\n",
      " 'California' 'Unknown' 'Contra Costa' 'Glenn' 'Del Norte' 'El Dorado'\n",
      " 'Fresno' 'Inyo' 'Humboldt' 'Imperial' 'Kern' 'Lake' 'Kings' 'Lassen'\n",
      " 'Madera' 'Los Angeles' 'Marin' 'Mariposa' 'Mendocino' 'Merced' 'Modoc'\n",
      " 'Mono' 'Monterey' 'Nevada' 'Napa' 'Orange' 'Placer' 'Plumas' 'Riverside'\n",
      " 'Sierra' 'Sacramento' 'San Benito' 'San Bernardino' 'San Joaquin'\n",
      " 'Santa Barbara' 'San Diego' 'San Francisco' 'San Mateo' 'San Luis Obispo'\n",
      " 'Santa Cruz' 'Shasta' 'Santa Clara' 'Siskiyou' 'Solano' 'Stanislaus'\n",
      " 'Tehama' 'Sonoma' 'Sutter' 'Trinity' 'Tuolumne' 'Tulare' 'Yolo' 'Ventura'\n",
      " 'Yuba']\n"
     ]
    }
   ],
   "source": [
    "print(cases['area'].unique())"
   ]
  },
  {
   "cell_type": "code",
   "execution_count": 3,
   "metadata": {},
   "outputs": [],
   "source": [
    "#it looks like there are some unneccesary data in 'County'; 'Unknown' and 'Out of State'\n",
    "#remove the unneccessary data rows\n",
    "remove_county_index = cases[cases['area'].isin(['Unknown', 'Out of state'])].index\n",
    "cases = cases.drop(remove_county_index)"
   ]
  },
  {
   "cell_type": "code",
   "execution_count": 4,
   "metadata": {},
   "outputs": [
    {
     "name": "stdout",
     "output_type": "stream",
     "text": [
      "cumulative_reported_deaths    object\n",
      "cumulative_deaths             object\n",
      "cumulative_positive_tests     object\n",
      "area                          object\n",
      "cumulative_cases              object\n",
      "reported_cases                object\n",
      "positive_tests                object\n",
      "cumulative_reported_cases     object\n",
      "area_type                     object\n",
      "reported_deaths               object\n",
      "total_tests                   object\n",
      "deaths                        object\n",
      "reported_tests                object\n",
      "date                          object\n",
      "cases                         object\n",
      "_id                            int64\n",
      "cumulative_total_tests        object\n",
      "population                    object\n",
      "dtype: object\n"
     ]
    }
   ],
   "source": [
    "print(cases.dtypes)"
   ]
  },
  {
   "cell_type": "code",
   "execution_count": 5,
   "metadata": {},
   "outputs": [],
   "source": [
    "#columns are of type 'object', we will need to change their types\n",
    "numeric_columns = ['cumulative_reported_deaths', 'cumulative_deaths', 'cumulative_positive_tests', 'cumulative_cases',\n",
    "                   'reported_cases', 'positive_tests', 'cumulative_reported_cases', 'reported_deaths', 'total_tests',\n",
    "                   'deaths', 'reported_tests', 'cases', 'cumulative_total_tests', 'population']\n",
    "cases[numeric_columns] = cases[numeric_columns].apply(pd.to_numeric)\n",
    "\n",
    "string_columns = ['area', 'area_type']\n",
    "cases[string_columns] = cases[string_columns].astype('string')\n",
    "\n",
    "#the 'date' of todays entry is left as None, we will add the date in\n",
    "from datetime import date, timedelta\n",
    "\n",
    "today = date.today()\n",
    "cases['date'].fillna(today, inplace = True)\n",
    "cases['date'] = pd.to_datetime(cases['date'])\n",
    "\n",
    "#sort values for ease of use in visualization \n",
    "cases = cases.sort_values(['area_type', 'area', 'date'], ascending = (False, True, True))"
   ]
  },
  {
   "cell_type": "code",
   "execution_count": 6,
   "metadata": {},
   "outputs": [],
   "source": [
    "#add columns for cases and deaths based on population\n",
    "cases['cases_per_100k_pop'] = cases['cases'] / cases['population'] * 100000\n",
    "cases['cumulative_cases_per_100k_pop'] = cases['cumulative_cases'] / cases['population'] * 100000\n",
    "cases['deaths_per_100k_pop'] = cases['deaths'] / cases['population'] * 100000\n",
    "cases['cumulative_deaths_per_100k_pop'] = cases['cumulative_deaths'] / cases['population'] * 100000"
   ]
  },
  {
   "cell_type": "markdown",
   "metadata": {},
   "source": [
    "## Vaccine Data"
   ]
  },
  {
   "cell_type": "code",
   "execution_count": 7,
   "metadata": {},
   "outputs": [],
   "source": [
    "#collect vaccination data\n",
    "url = website + '/api/3/action/datastore_search?resource_id=c020ef6b-2116-4775-b11d-9df2875096ab'\n",
    "\n",
    "vaccines = pd.DataFrame()\n",
    "completed = False\n",
    "total_rows: int\n",
    "rows_added = 0\n",
    "\n",
    "while completed == False:\n",
    "    fileobj = urllib.request.urlopen(url)\n",
    "    response_dict = json.loads(fileobj.read())\n",
    "    current_data = pd.json_normalize(response_dict['result']['records'])\n",
    "    vaccines = vaccines.append(current_data, ignore_index = True)\n",
    "    url = website + response_dict['result']['_links']['next']\n",
    "    total_rows = response_dict['result']['total']\n",
    "    rows_added += current_data.shape[0]\n",
    "    if rows_added >= total_rows:\n",
    "        completed = True"
   ]
  },
  {
   "cell_type": "code",
   "execution_count": 8,
   "metadata": {},
   "outputs": [
    {
     "name": "stdout",
     "output_type": "stream",
     "text": [
      "['All CA Counties' 'Alpine' 'All CA and Non-CA Counties' 'Madera' 'Shasta'\n",
      " 'Amador' 'Butte' 'Calaveras' 'Colusa' 'Del Norte' 'Glenn' 'Humboldt'\n",
      " 'Imperial' 'Inyo' 'Kings' 'Lake' 'Lassen' 'Marin' 'Mariposa' 'Mendocino'\n",
      " 'Merced' 'Modoc' 'Mono' 'Monterey' 'Napa' 'Nevada' 'Plumas' 'San Benito'\n",
      " 'Santa Barbara' 'Sierra' 'Siskiyou' 'Stanislaus' 'Sutter' 'Tehama'\n",
      " 'Trinity' 'Tulare' 'Tuolumne' 'Unknown' 'Yuba' 'Outside California'\n",
      " 'El Dorado' 'Alameda' 'Contra Costa' 'Fresno' 'Kern' 'Los Angeles'\n",
      " 'Sacramento' 'Orange' 'Placer' 'Riverside' 'San Francisco'\n",
      " 'San Bernardino' 'San Diego' 'Santa Cruz' 'San Luis Obispo' 'San Joaquin'\n",
      " 'Santa Clara' 'San Mateo' 'Solano' 'Sonoma' 'Ventura' 'Yolo']\n"
     ]
    }
   ],
   "source": [
    "print(vaccines['county'].unique())"
   ]
  },
  {
   "cell_type": "code",
   "execution_count": 9,
   "metadata": {},
   "outputs": [],
   "source": [
    "#remove rows for 'Unknown', 'Outside California', and 'All CA and Non-CA Counties'\n",
    "remove_county_index = vaccines[vaccines['county'].isin(['Unknown', 'Outside California', 'All CA and Non-CA Counties'])].index\n",
    "vaccines = vaccines.drop(remove_county_index)\n",
    "#replace 'All CA Counties' with 'California' for consistency\n",
    "vaccines = vaccines.replace({'county': {'All CA Counties': 'California'}})"
   ]
  },
  {
   "cell_type": "code",
   "execution_count": 10,
   "metadata": {},
   "outputs": [
    {
     "data": {
      "text/plain": [
       "cumulative_pfizer_doses         object\n",
       "cumulative_total_doses          object\n",
       "cumulative_fully_vaccinated     object\n",
       "pfizer_doses                    object\n",
       "california_flag                 object\n",
       "moderna_doses                   object\n",
       "at_least_one_dose               object\n",
       "county                          object\n",
       "partially_vaccinated            object\n",
       "total_doses                     object\n",
       "fully_vaccinated                object\n",
       "jj_doses                        object\n",
       "cumulative_jj_doses             object\n",
       "cumulative_at_least_one_dose    object\n",
       "_id                              int64\n",
       "administered_date               object\n",
       "total_partially_vaccinated      object\n",
       "cumulative_moderna_doses        object\n",
       "dtype: object"
      ]
     },
     "execution_count": 10,
     "metadata": {},
     "output_type": "execute_result"
    }
   ],
   "source": [
    "vaccines.dtypes"
   ]
  },
  {
   "cell_type": "code",
   "execution_count": 11,
   "metadata": {},
   "outputs": [],
   "source": [
    "#change column types to the correct types\n",
    "numeric_columns = ['cumulative_pfizer_doses', 'cumulative_total_doses', 'cumulative_fully_vaccinated',\n",
    "                   'pfizer_doses', 'moderna_doses', 'at_least_one_dose', 'partially_vaccinated', 'total_doses',\n",
    "                   'fully_vaccinated', 'jj_doses', 'cumulative_jj_doses', 'cumulative_at_least_one_dose',\n",
    "                   'total_partially_vaccinated', 'cumulative_moderna_doses']\n",
    "vaccines[numeric_columns] = vaccines[numeric_columns].apply(pd.to_numeric)\n",
    "\n",
    "string_columns = ['california_flag', 'county']\n",
    "vaccines[string_columns] = vaccines[string_columns].astype('string')\n",
    "\n",
    "vaccines['administered_date'] = pd.to_datetime(vaccines['administered_date'])"
   ]
  },
  {
   "cell_type": "code",
   "execution_count": 12,
   "metadata": {},
   "outputs": [],
   "source": [
    "#sort values based on county and date, but put rows for 'California' first\n",
    "vaccines = vaccines.sort_values(['county', 'administered_date'], ascending = (True, True))\n",
    "vaccines_ca = vaccines[vaccines['county'] == 'California']\n",
    "vaccines_counties = vaccines[vaccines['county'] != 'California']\n",
    "vaccines = vaccines_ca.append(vaccines_counties)"
   ]
  },
  {
   "cell_type": "code",
   "execution_count": 13,
   "metadata": {},
   "outputs": [],
   "source": [
    "#merge desired data into one dataframe\n",
    "cases['county_date'] = cases['area'] + cases['date'].astype(str)\n",
    "vaccines['county_date'] = vaccines['county'] + vaccines['administered_date'].astype(str)\n",
    "cases = cases.merge(vaccines[['county_date', 'fully_vaccinated', 'cumulative_fully_vaccinated']], \n",
    "                    how = 'left', left_on = 'county_date', right_on = 'county_date')\n",
    "\n",
    "#vaccination values are null for today, replace with 0\n",
    "cases[['fully_vaccinated', 'cumulative_fully_vaccinated']] = cases[['fully_vaccinated', 'cumulative_fully_vaccinated']].fillna(0)\n",
    "#for cumulative vaccination values, use the values from yesterday\n",
    "today_indexes = cases[cases['date'] == today.isoformat()].index\n",
    "for i in today_indexes:\n",
    "    cases.loc[i, 'cumulative_fully_vaccinated'] = cases.loc[i-1, 'cumulative_fully_vaccinated']\n",
    "\n",
    "#add vaccination values based on proportion\n",
    "cases['cumulative_vaccination_proportion'] = cases['cumulative_fully_vaccinated'] / cases['population']\n",
    "cases['fully_vaccinated_per_100k_pop'] = cases['fully_vaccinated'] / cases['population'] * 100000"
   ]
  },
  {
   "cell_type": "markdown",
   "metadata": {},
   "source": [
    "## Data Visualization"
   ]
  },
  {
   "cell_type": "code",
   "execution_count": 14,
   "metadata": {},
   "outputs": [],
   "source": [
    "#create methods to easily filter the tables when creating our visualizations\n",
    "from typing import List\n",
    "\n",
    "def filter_by_county(county: List[str]) -> pd.DataFrame():\n",
    "    \"\"\"return dataframe only with data from 'county'\"\"\"\n",
    "    return cases[cases['area'].isin(county)]\n",
    "\n",
    "def filter_by_date(date: str) -> pd.DataFrame():\n",
    "    \"\"\"return dataframe with data for specific date\"\"\"\n",
    "    return cases[cases['date'] == date]"
   ]
  },
  {
   "cell_type": "code",
   "execution_count": 15,
   "metadata": {},
   "outputs": [],
   "source": [
    "#we will need a geojson for California counties in order to draw am map for visualization\n",
    "from urllib.request import urlopen\n",
    "import json\n",
    "with urlopen('https://raw.githubusercontent.com/codeforamerica/click_that_hood/master/public/data/california-counties.geojson') as response:\n",
    "    counties = json.load(response)"
   ]
  },
  {
   "cell_type": "code",
   "execution_count": null,
   "metadata": {},
   "outputs": [
    {
     "name": "stdout",
     "output_type": "stream",
     "text": [
      "Dash is running on http://127.0.0.1:8050/\n",
      "\n",
      " * Serving Flask app \"__main__\" (lazy loading)\n",
      " * Environment: production\n",
      "   WARNING: This is a development server. Do not use it in a production deployment.\n",
      "   Use a production WSGI server instead.\n",
      " * Debug mode: on\n"
     ]
    }
   ],
   "source": [
    "import dash\n",
    "import dash_core_components as dcc\n",
    "import dash_html_components as html\n",
    "import dash_bootstrap_components as dbc\n",
    "from dash.dependencies import Output, Input\n",
    "import plotly.express as px\n",
    "\n",
    "app = dash.Dash(__name__, external_stylesheets=[dbc.themes.BOOTSTRAP])\n",
    "\n",
    "app.layout = dbc.Container([\n",
    "    #create title\n",
    "    dbc.Row([\n",
    "        dbc.Col(html.H1('California County Coronavirus Dashboard',\n",
    "                        className = 'text-center'),\n",
    "                width = 12)\n",
    "    ]),\n",
    "    \n",
    "    #create radio selection to build visualizations for 'Cases', 'Vaccine', or 'Death'\n",
    "    dbc.Row([\n",
    "        dbc.Col([\n",
    "            dcc.RadioItems(\n",
    "                id = 'radio',\n",
    "                options=[\n",
    "                    {'label': 'Cases', 'value': 'Cases'},\n",
    "                    {'label': 'Vaccine', 'value': 'Vaccine'},\n",
    "                    {'label': 'Death', 'value': 'Death'}\n",
    "                ],\n",
    "                value = 'Cases',\n",
    "                labelStyle = {'padding': '5px', 'margin': 'auto'}\n",
    "            )  \n",
    "        ])\n",
    "    ]),\n",
    "    \n",
    "    #create a dropdown menu to select which counties are to be show on the graphs\n",
    "    dbc.Row([\n",
    "        dbc.Col([\n",
    "            dcc.Dropdown(\n",
    "                id = 'dropdown',\n",
    "                options = [\n",
    "                    {'label': i, 'value': i} for i in cases['area'].unique()\n",
    "                ],\n",
    "                value = ['California'],\n",
    "                multi = True,\n",
    "                clearable = True,\n",
    "                placeholder = 'Filter by county ...')\n",
    "        ], width = 5)\n",
    "    ], justify = 'center'),\n",
    "    \n",
    "    #placeholder to build line graph for daily values\n",
    "    dbc.Row([\n",
    "        dbc.Col([\n",
    "           dcc.Graph(id = 'line_daily') \n",
    "        ], width = 12)\n",
    "    ]),\n",
    "    \n",
    "    #placeholder to build line graph for cumulative values\n",
    "    dbc.Row([\n",
    "        dbc.Col([\n",
    "            dcc.Graph(id = 'line_cumulative')\n",
    "        ], width = 12)\n",
    "    ]),\n",
    "    \n",
    "    #create a radio selection for either 'Daily' or 'Cumulative' filter for map\n",
    "    dbc.Row([\n",
    "        dbc.Col([\n",
    "             dcc.RadioItems(\n",
    "                id = 'radio2',\n",
    "                options=[\n",
    "                    {'label': 'Daily', 'value': 'Daily'},\n",
    "                    {'label': 'Cumulative', 'value': 'Cumulative'}\n",
    "                ],\n",
    "                value = 'Cumulative',\n",
    "                labelStyle = {'padding': '5px', 'margin': 'auto'}\n",
    "            )\n",
    "        ])\n",
    "    ]),\n",
    "    \n",
    "    dbc.Row([\n",
    "        dbc.Col([\n",
    "            html.P('Select Date:',\n",
    "                   style = {'textDecoration': \"underline\"}),\n",
    "            #create date selecter for the date of the data that is shown on the map\n",
    "            dcc.DatePickerSingle(\n",
    "                id='date_picker',\n",
    "                min_date_allowed = cases['date'].dt.date.min(),\n",
    "                max_date_allowed = cases['date'].dt.date.max(),\n",
    "                initial_visible_month = today,\n",
    "                date = today),\n",
    "            #placeholder to build map\n",
    "            dcc.Graph(id = 'map_cases')\n",
    "        ], width = 12)\n",
    "    ])\n",
    "])\n",
    "\n",
    "#first callback that uses the first radio selecter and county dropdown to build line graphs\n",
    "@app.callback(\n",
    "    Output('line_daily', 'figure'),\n",
    "    Output('line_cumulative', 'figure'),\n",
    "    Input('dropdown', 'value'),\n",
    "    Input('radio', 'value')\n",
    ")\n",
    "\n",
    "def update_graph(input1, input2):  \n",
    "    y_axis_daily = ''\n",
    "    y_axis_cumulative = ''\n",
    "    title_daily = ''\n",
    "    title_cumulative = ''\n",
    "    \n",
    "    if (input2 == 'Cases'):\n",
    "        y_axis_daily = 'cases'\n",
    "        y_axis_cumulative = 'cumulative_cases'\n",
    "        title_daily = 'Daily Number of Cases'\n",
    "        title_cumulative = 'Cumulative Number of Cases'\n",
    "    elif (input2 == 'Vaccine'):\n",
    "        y_axis_daily = 'fully_vaccinated'\n",
    "        y_axis_cumulative = 'cumulative_fully_vaccinated'\n",
    "        title_daily = 'Daily Number of Fully Vaccinated'\n",
    "        title_cumulative = 'Cumulative Number of Vaccinated'\n",
    "    else:\n",
    "        y_axis_daily = 'deaths'\n",
    "        y_axis_cumulative = 'cumulative_deaths'\n",
    "        title_daily = 'Daily Number of Deaths'\n",
    "        title_cumulative = 'Cumulative Number of Deaths'\n",
    "    \n",
    "    filtered_table = filter_by_county(input1)\n",
    "    \n",
    "    fig = px.line(\n",
    "        filtered_table,\n",
    "        x = 'date',\n",
    "        y = y_axis_daily,\n",
    "        title = title_daily,\n",
    "        color = 'area'\n",
    "    )\n",
    "    \n",
    "    fig2 = px.line(\n",
    "        filtered_table,\n",
    "        x = 'date',\n",
    "        y = y_axis_cumulative,\n",
    "        title = title_cumulative,\n",
    "        color = 'area'\n",
    "    )\n",
    "    return fig, fig2\n",
    "\n",
    "#second callback that uses the date picker and radio selecters to build map\n",
    "@app.callback(\n",
    "    Output('map_cases', 'figure'),\n",
    "    Input('date_picker', 'date'),\n",
    "    Input('radio', 'value'),\n",
    "    Input('radio2', 'value')\n",
    ")\n",
    "\n",
    "def update_map(date, value1, value2):\n",
    "    color_input = ''\n",
    "    \n",
    "    if (value1 == 'Cases'):\n",
    "        if (value2 == 'Daily'):\n",
    "            color_input = 'cases_per_100k_pop'\n",
    "        else:\n",
    "            color_input = 'cumulative_cases_per_100k_pop'\n",
    "    elif (value1 == 'Vaccine'):\n",
    "        if (value2 == 'Daily'):\n",
    "            color_input = 'fully_vaccinated_per_100k_pop'\n",
    "        else:\n",
    "            color_input = 'cumulative_vaccination_proportion'\n",
    "    else:\n",
    "        if (value2 == 'Daily'):\n",
    "            color_input = 'deaths_per_100k_pop'\n",
    "        else:\n",
    "            color_input = 'cumulative_deaths_per_100k_pop'\n",
    "    \n",
    "    filtered_table = filter_by_date(date)\n",
    "    filtered_table = filtered_table[filtered_table['area'] != 'California']\n",
    "    \n",
    "    fig = px.choropleth(\n",
    "            filtered_table, \n",
    "            geojson=counties, \n",
    "            locations='area',\n",
    "            featureidkey = 'properties.name', \n",
    "            color = color_input,\n",
    "            color_continuous_scale = 'OrRd', \n",
    "            projection = 'mercator',\n",
    "    )\n",
    "    \n",
    "    fig.update_geos(fitbounds=\"locations\", visible=False)\n",
    "    fig.update_layout(margin={\"r\":0,\"t\":0,\"l\":0,\"b\":0})\n",
    "    return fig\n",
    "\n",
    "if __name__ == '__main__':\n",
    "    app.run_server(debug = True, use_reloader = False)"
   ]
  }
 ],
 "metadata": {
  "kernelspec": {
   "display_name": "Python 3",
   "language": "python",
   "name": "python3"
  },
  "language_info": {
   "codemirror_mode": {
    "name": "ipython",
    "version": 3
   },
   "file_extension": ".py",
   "mimetype": "text/x-python",
   "name": "python",
   "nbconvert_exporter": "python",
   "pygments_lexer": "ipython3",
   "version": "3.8.5"
  }
 },
 "nbformat": 4,
 "nbformat_minor": 4
}
